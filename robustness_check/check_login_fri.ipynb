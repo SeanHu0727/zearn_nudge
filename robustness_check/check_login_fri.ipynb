{
 "cells": [
  {
   "cell_type": "code",
   "execution_count": 1,
   "metadata": {},
   "outputs": [],
   "source": [
    "import pandas as pd\n",
    "from datetime import datetime"
   ]
  },
  {
   "cell_type": "code",
   "execution_count": 2,
   "metadata": {},
   "outputs": [],
   "source": [
    "df_usage = pd.read_csv('raw_data/BCFG Main File - Teacher Sessions 2021-12-13T1018.csv')\n",
    "df_ref = pd.read_csv('raw_data/megastudy_clean.csv')[['teacher_id','condition']]"
   ]
  },
  {
   "cell_type": "code",
   "execution_count": 18,
   "metadata": {},
   "outputs": [],
   "source": [
    "df = df_usage.merge(df_ref, left_on='User ID (Pseudonymized)', right_on='teacher_id',how='inner')\n",
    "# drop lots of observation either not in ref or usage data\n",
    "condition = ['Nudging Weekly','Megastudy Control','Nudging Friday']\n",
    "df = df[df['condition'].isin(condition)]\n",
    "df['datetime'] = [datetime.strptime(x, '%Y-%m-%d') for x in df['Usage Date']]\n",
    "df = df[(df['datetime']> datetime(2021,9,14)) & (df['datetime']< datetime(2021,10,13))]\n",
    "df['dow'] = [x.weekday() for x in df['datetime']]\n",
    "df.reset_index(inplace=True,drop=True)"
   ]
  },
  {
   "cell_type": "code",
   "execution_count": 21,
   "metadata": {},
   "outputs": [
    {
     "name": "stdout",
     "output_type": "stream",
     "text": [
      "Wednesday treatment: Tue: 107.0%, Wed: 121.3%, Thu: 103.1%, Fri: 85.2%, Sat: 9.3%, Sun: 20.8%, \n",
      "Control treatment:   Tue: 105.9%, Wed: 108.5%, Thu: 102.5%, Fri: 84.3%, Sat: 8.4%, Sun: 22.2%, \n",
      "Friday treatment:    Tue: 107.1%, Wed: 105.0%, Thu : 99.2%, Fri: 88.6%, Sat: 8.8%, Sun: 22.1%, \n",
      "Each number represents the specific day logins proportion to Monday logins\n"
     ]
    }
   ],
   "source": [
    "friday_dic, control_dic, weekly_dic = {0:0,1:0,2:0,3:0,4:0,5:0,6:0},{0:0,1:0,2:0,3:0,4:0,5:0,6:0},{0:0,1:0,2:0,3:0,4:0,5:0,6:0}\n",
    "for i in df[df['condition']=='Megastudy Control']['dow']:\n",
    "    control_dic[i] += 1\n",
    "for i in df[df['condition'] == 'Nudging Weekly']['dow']:\n",
    "    weekly_dic[i] += 1\n",
    "for i in df[df['condition']=='Nudging Friday']['dow']:\n",
    "    friday_dic[i] += 1\n",
    "friday_list = [friday_dic[0],friday_dic[1],friday_dic[2],friday_dic[3],friday_dic[4],friday_dic[5],friday_dic[6]]\n",
    "control_list = [control_dic[0],control_dic[1],control_dic[2],control_dic[3],control_dic[4],control_dic[5],control_dic[6]]\n",
    "weekly_list = [weekly_dic[0],weekly_dic[1],weekly_dic[2],weekly_dic[3],weekly_dic[4],weekly_dic[5],weekly_dic[6]]\n",
    "weekly_print = 'Wednesday treatment: '\n",
    "for x,y in zip(['Tue','Wed','Thu','Fri','Sat','Sun'],range(1,7)):\n",
    "    weekly_print += x + ': ' + str(round(100*weekly_list[y]/weekly_list[0],1)) + '%, '\n",
    "\n",
    "control_print = 'Control treatment:   '\n",
    "for x,y in zip(['Tue','Wed','Thu','Fri','Sat','Sun'],range(1,7)):\n",
    "    control_print += x + ': ' + str(round(100*control_list[y]/control_list[0],1)) + '%, '\n",
    "\n",
    "friday_print = 'Friday treatment:    '\n",
    "for x,y in zip(['Tue','Wed','Thu ','Fri','Sat','Sun'],range(1,7)):\n",
    "    friday_print += x + ': ' + str(round(100*friday_list[y]/friday_list[0],1)) + '%, '\n",
    "    \n",
    "print(weekly_print)\n",
    "print(control_print)\n",
    "print(friday_print)\n",
    "print('Each number represents the specific day logins proportion to Monday logins')"
   ]
  }
 ],
 "metadata": {
  "kernelspec": {
   "display_name": "Python 3",
   "language": "python",
   "name": "python3"
  },
  "language_info": {
   "codemirror_mode": {
    "name": "ipython",
    "version": 3
   },
   "file_extension": ".py",
   "mimetype": "text/x-python",
   "name": "python",
   "nbconvert_exporter": "python",
   "pygments_lexer": "ipython3",
   "version": "3.11.2"
  },
  "orig_nbformat": 4
 },
 "nbformat": 4,
 "nbformat_minor": 2
}
